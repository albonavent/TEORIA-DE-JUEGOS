{
 "cells": [
  {
   "cell_type": "markdown",
   "metadata": {},
   "source": [
    "# Teoría De Juegos."
   ]
  },
  {
   "cell_type": "markdown",
   "metadata": {},
   "source": [
    "- **Autores:** Johana Gomez Ceballos,Alejandro Burbano  Buenaventura,María Fernanda Calderón.\n",
    "\n",
    "- **Fecha:** 22/05/18\n",
    "- **Asignatura:** Optimización"
   ]
  },
  {
   "cell_type": "markdown",
   "metadata": {},
   "source": [
    "La Teoría de Juegos es una teoría matemática que estudia las características generales de las situaciones competitivas de manera formal y abstracta.\n",
    "Es útil para tomar decisiones en casos donde dos o más personas que deciden se enfrentan en un conflicto de intereses.\n",
    "Dentro de este marco definimos como “juego” cualquier situación estructurada en que se pueden obtener recompensas o incentivos\n",
    "preestablecidos y que implica a varias personas u otros entes racionales, como las inteligencias artificiales o los animales. De modo general podríamos decir que los juegos son similares a los conflictos.\n",
    "\n",
    "En el presente trabajo se da a concocer mediante un ejemplo en que consiste la teoria de juegos y como  se suele utilizar en la vida cotidiana. \n",
    "\n",
    "\n"
   ]
  },
  {
   "cell_type": "markdown",
   "metadata": {},
   "source": [
    "###  Ejemplo:Piedra,Papel  y Tijera"
   ]
  },
  {
   "cell_type": "markdown",
   "metadata": {},
   "source": [
    "### Código"
   ]
  },
  {
   "cell_type": "code",
   "execution_count": 5,
   "metadata": {},
   "outputs": [],
   "source": [
    "from random import randint\n",
    " \n",
    "def juegoPPT(nums = 0):\n",
    "    print('-- Bienvenido al juego de piedra, papel o tijera --')\n",
    "    if (nums == 0):\n",
    "        nums = input('Establezca el numero de partidas que se deben ganar para terminar el juego: ')\n",
    "        if (len(nums) < 1):\n",
    "            print('Por defecto la partida sera solo una')\n",
    "            nums = 1\n",
    "        elif (int(nums) == 0):\n",
    "            print('Numero de partidas no validas, intentalo de nuevo')\n",
    "            return juegoPPT(0, True)\n",
    "    partidas = (int(nums)*2) - 1\n",
    "    if (int(nums) > 1): print('Basado en el numero de partidas a ganar, el total a jugar seran %s partidas' % partidas)\n",
    "    print('')\n",
    "    ganador = [0, 0]\n",
    "    finalizo = False\n",
    "    opciones = ['piedra', 'papel', 'tijera']\n",
    "    resultados = [ [False, False, True], [True, False, False], [False, True, False] ]\n",
    "    while partidas:\n",
    "        opcion = input('Ingrese su comodin : ')\n",
    "        if opcion not in opciones:\n",
    "            print('Lo siento, %s no es un comodin valido para el juego, intentalo de nuevo\\n' % opcion)\n",
    "        else:\n",
    "            opcion_pc = randint(0,2)\n",
    "            opcion_us = opciones.index(opcion)\n",
    "            print ('PC: %s vs TU: %s' % (opciones[opcion_pc],opcion) )\n",
    "            if (opcion_pc == opcion_us):\n",
    "                print('No hay ganador\\n')\n",
    "            else:\n",
    "                if resultados[opcion_pc][opcion_us]:\n",
    "                    ganador[0] += 1\n",
    "                    if (int(nums) > 1): print('Perdiste la partida\\n')\n",
    "                else:\n",
    "                    ganador[1] += 1\n",
    "                    if (int(nums) > 1): print('Ganaste la partida\\n')\n",
    "            if (int(nums) in ganador):\n",
    "                ganador_juego = 'Ganaste el juego\\n' if (ganador.index(int(nums)) == 1) else '\\nLa PC gano el juego\\n'\n",
    "                print (ganador_juego)\n",
    "                finalizo = True\n",
    "                break\n",
    "            elif (partidas == int(nums) and sum(ganador) == 0): break\n",
    "            partidas -= 1\n",
    "    if (finalizo != True): print('Partidas terminadas sin ganador o es posible que no haya algun ganador en las siguientes')\n",
    "    if (input('¿Quiere volver a jugar? (S/N): ').lower() == 's'):\n",
    "        print('')\n",
    "        rein=True\n",
    "        return juegoPPT()\n",
    "    else:\n",
    "        print('\\nJuego terminado.....')"
   ]
  },
  {
   "cell_type": "code",
   "execution_count": null,
   "metadata": {},
   "outputs": [],
   "source": [
    "juegoPPT()"
   ]
  },
  {
   "cell_type": "code",
   "execution_count": null,
   "metadata": {},
   "outputs": [],
   "source": []
  },
  {
   "cell_type": "code",
   "execution_count": null,
   "metadata": {},
   "outputs": [],
   "source": []
  }
 ],
 "metadata": {
  "kernelspec": {
   "display_name": "Python 3",
   "language": "python",
   "name": "python3"
  },
  "language_info": {
   "codemirror_mode": {
    "name": "ipython",
    "version": 3
   },
   "file_extension": ".py",
   "mimetype": "text/x-python",
   "name": "python",
   "nbconvert_exporter": "python",
   "pygments_lexer": "ipython3",
   "version": "3.6.4"
  }
 },
 "nbformat": 4,
 "nbformat_minor": 1
}
